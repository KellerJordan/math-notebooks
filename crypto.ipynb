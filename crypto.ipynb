{
 "cells": [
  {
   "cell_type": "code",
   "execution_count": 99,
   "metadata": {},
   "outputs": [],
   "source": [
    "import math\n",
    "import matplotlib.pyplot as plt\n",
    "from collections import Counter\n",
    "from itertools import product"
   ]
  },
  {
   "cell_type": "code",
   "execution_count": 105,
   "metadata": {},
   "outputs": [
    {
     "data": {
      "text/plain": [
       "[(5, 1, 3), (5, 1, 4), (5, 2, 3), (5, 2, 4)]"
      ]
     },
     "execution_count": 105,
     "metadata": {},
     "output_type": "execute_result"
    }
   ],
   "source": [
    "list(product([5], [1, 2], [3, 4]))"
   ]
  },
  {
   "cell_type": "code",
   "execution_count": 111,
   "metadata": {},
   "outputs": [
    {
     "name": "stdout",
     "output_type": "stream",
     "text": [
      "True\n"
     ]
    }
   ],
   "source": [
    "# N must be prime, otherwise there exist a, b such that mult(a, b) = 0, not invertible.\n",
    "\n",
    "N = 17\n",
    "\n",
    "def decompose(n):\n",
    "    factors = []\n",
    "    k = 2\n",
    "    while k <= math.ceil(math.sqrt(n)):\n",
    "        if n % k == 0:\n",
    "            factors.append(k)\n",
    "            n = n // k\n",
    "        else:\n",
    "            k += 1\n",
    "    factors.append(n)\n",
    "    return factors\n",
    "\n",
    "def divisors(n):\n",
    "    decomp = Counter(decompose(n))\n",
    "    factors = decomp.keys()\n",
    "    mults = decomp.values()\n",
    "    divisor_mults = product(*[range(m) for m in mults])\n",
    "    divisors = []\n",
    "    for m_tup in divisor_mults:\n",
    "        d = 1\n",
    "        for f, m in zip(factors, m_tup):\n",
    "            d *= f**m\n",
    "        divisors.append(d)\n",
    "    return divisors\n",
    "\n",
    "def check_prime(n):\n",
    "    for k in range(2, math.ceil(math.sqrt(n))):\n",
    "        if n % k == 0:\n",
    "            return False\n",
    "    return True\n",
    "\n",
    "print(check_prime(N))"
   ]
  },
  {
   "cell_type": "code",
   "execution_count": 151,
   "metadata": {},
   "outputs": [
    {
     "data": {
      "image/png": "[encoded data removed]",
      "text/plain": [
       "<Figure size 432x288 with 1 Axes>"
      ]
     },
     "metadata": {},
     "output_type": "display_data"
    }
   ],
   "source": [
    "numbers = range(9690000, 9700000)\n",
    "n_factors = []\n",
    "for n in numbers:\n",
    "    n_factors.append(len(set(decompose(n))))\n",
    "\n",
    "c = Counter(n_factors)\n",
    "plt.scatter(c.keys(), c.values())\n",
    "plt.show()"
   ]
  },
  {
   "cell_type": "code",
   "execution_count": 62,
   "metadata": {},
   "outputs": [],
   "source": [
    "# define operations for Z_N^* multiplicative group\n",
    "\n",
    "def mult(a, b):\n",
    "    return (a * b) % N\n",
    "\n",
    "def power(a, k):\n",
    "    X = a\n",
    "    E = k\n",
    "    Y = 1\n",
    "    while E > 0:\n",
    "        if E % 2 == 0:\n",
    "            X = mult(X, X)\n",
    "            E = E//2\n",
    "        else:\n",
    "            Y = mult(Y, X)\n",
    "            E = E - 1\n",
    "    return Y\n",
    "\n",
    "memo = {}\n",
    "def order(n):\n",
    "    k = 1\n",
    "    m = n\n",
    "    while m != 1:\n",
    "        m = mult(m, n)\n",
    "        k += 1\n",
    "    return k"
   ]
  },
  {
   "cell_type": "code",
   "execution_count": 42,
   "metadata": {},
   "outputs": [
    {
     "data": {
      "text/plain": [
       "Counter({1: 1, 2: 1, 7: 6, 14: 6, 443: 442, 886: 442, 3101: 2652, 6202: 2652})"
      ]
     },
     "execution_count": 42,
     "metadata": {},
     "output_type": "execute_result"
    }
   ],
   "source": [
    "orders = [order(k) for k in range(1, N)]\n",
    "Counter(orders)"
   ]
  },
  {
   "cell_type": "code",
   "execution_count": null,
   "metadata": {
    "collapsed": true
   },
   "outputs": [],
   "source": []
  }
 ],
 "metadata": {
  "kernelspec": {
   "display_name": "Python 3",
   "language": "python",
   "name": "python3"
  },
  "language_info": {
   "codemirror_mode": {
    "name": "ipython",
    "version": 3
   },
   "file_extension": ".py",
   "mimetype": "text/x-python",
   "name": "python",
   "nbconvert_exporter": "python",
   "pygments_lexer": "ipython3",
   "version": "3.6.2"
  }
 },
 "nbformat": 4,
 "nbformat_minor": 2
}
