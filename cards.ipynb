{
 "cells": [
  {
   "cell_type": "code",
   "execution_count": 30,
   "metadata": {
    "collapsed": true
   },
   "outputs": [],
   "source": [
    "def explore_state(state, states):\n",
    "    if state in states:\n",
    "        return states[state]\n",
    "    \n",
    "    last_red, num_left, red_left = state\n",
    "    \n",
    "    red_prob = red_left / num_left\n",
    "    black_prob = 1 - red_prob\n",
    "    continue_winrate = 0\n",
    "    if red_prob > 0:\n",
    "        red_winrate = explore_state((True, num_left - 1, red_left - 1), states)\n",
    "        continue_winrate += red_prob * red_winrate\n",
    "    if black_prob > 0:\n",
    "        black_winrate = explore_state((False, num_left - 1, red_left), states)\n",
    "        continue_winrate += black_prob * black_winrate\n",
    "    \n",
    "    if last_red is not None:\n",
    "        stop_winrate = red_prob if last_red else black_prob\n",
    "        winrate = max(continue_winrate, stop_winrate)\n",
    "    else:\n",
    "        winrate = continue_winrate\n",
    "    states[state] = winrate\n",
    "    return winrate"
   ]
  },
  {
   "cell_type": "code",
   "execution_count": 31,
   "metadata": {},
   "outputs": [
    {
     "name": "stdout",
     "output_type": "stream",
     "text": [
      "0.7450980392156863\n"
     ]
    }
   ],
   "source": [
    "# format: (Last card=Red, Num cards left, Num red left) : winrate for this state\n",
    "states = {\n",
    "    (True, 1, 0): 0,\n",
    "    (False, 1, 0): 1,\n",
    "    (True, 1, 1): 1,\n",
    "    (False, 1, 1): 0,\n",
    "}\n",
    "\n",
    "start_state = (None, 52, 26)\n",
    "explore_state(start_state, states)\n",
    "print(states[start_state])"
   ]
  }
 ],
 "metadata": {
  "kernelspec": {
   "display_name": "Python 3",
   "language": "python",
   "name": "python3"
  },
  "language_info": {
   "codemirror_mode": {
    "name": "ipython",
    "version": 3
   },
   "file_extension": ".py",
   "mimetype": "text/x-python",
   "name": "python",
   "nbconvert_exporter": "python",
   "pygments_lexer": "ipython3",
   "version": "3.6.2"
  }
 },
 "nbformat": 4,
 "nbformat_minor": 2
}
