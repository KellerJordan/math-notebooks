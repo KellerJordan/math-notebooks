{
 "cells": [
  {
   "cell_type": "code",
   "execution_count": 130,
   "metadata": {
    "collapsed": true
   },
   "outputs": [],
   "source": [
    "import numpy as np\n",
    "from itertools import count\n",
    "import matplotlib.pyplot as plt"
   ]
  },
  {
   "cell_type": "code",
   "execution_count": 191,
   "metadata": {
    "collapsed": true
   },
   "outputs": [],
   "source": [
    "def estimate(n):\n",
    "    R_i = n\n",
    "    for i in count(1):\n",
    "        R_i = np.random.binomial(R_i, 0.5)\n",
    "        if R_i <= 1:\n",
    "            return 2**(i-1)"
   ]
  },
  {
   "cell_type": "code",
   "execution_count": null,
   "metadata": {
    "collapsed": true
   },
   "outputs": [],
   "source": []
  },
  {
   "cell_type": "code",
   "execution_count": 195,
   "metadata": {},
   "outputs": [],
   "source": [
    "N = 2048\n",
    "C = 100000\n",
    "res = []\n",
    "for _ in range(C):\n",
    "    res.append(estimate(N))\n",
    "res = np.array(res)\n",
    "mu = res.mean()"
   ]
  },
  {
   "cell_type": "code",
   "execution_count": 196,
   "metadata": {
    "scrolled": true
   },
   "outputs": [
    {
     "data": {
      "image/png": "[encoded data removed]",
      "text/plain": [
       "<Figure size 432x288 with 1 Axes>"
      ]
     },
     "metadata": {},
     "output_type": "display_data"
    }
   ],
   "source": [
    "plt.hist(np.log2(res), bins=100, density=True)\n",
    "plt.show()"
   ]
  },
  {
   "cell_type": "code",
   "execution_count": 197,
   "metadata": {
    "scrolled": true
   },
   "outputs": [
    {
     "name": "stdout",
     "output_type": "stream",
     "text": [
      "1476.96128\n",
      "9.89366\n"
     ]
    }
   ],
   "source": [
    "print(res.mean())\n",
    "print(np.log2(res).mean())"
   ]
  },
  {
   "cell_type": "markdown",
   "metadata": {},
   "source": [
    "estimation whether |S| > 2^i"
   ]
  },
  {
   "cell_type": "code",
   "execution_count": 161,
   "metadata": {
    "collapsed": true
   },
   "outputs": [],
   "source": [
    "N = 1\n",
    "C = 10000\n",
    "\n",
    "res = []\n",
    "for i in range(1, 20):\n",
    "    p = np.mean(np.random.binomial(N, 1/2**i, size=C) != 0)\n",
    "    res.append(p)"
   ]
  },
  {
   "cell_type": "code",
   "execution_count": 162,
   "metadata": {},
   "outputs": [
    {
     "data": {
      "image/png": "[encoded data removed]",
      "text/plain": [
       "<Figure size 432x288 with 1 Axes>"
      ]
     },
     "metadata": {},
     "output_type": "display_data"
    }
   ],
   "source": [
    "plt.plot(res)\n",
    "plt.show()"
   ]
  },
  {
   "cell_type": "code",
   "execution_count": 90,
   "metadata": {
    "collapsed": true
   },
   "outputs": [],
   "source": [
    "res = []\n",
    "res2 = []\n",
    "for i in range(1, 20):\n",
    "    p = (1 - 1/2**i)**N\n",
    "    p2 = N/2**i\n",
    "    res.append(1 - p)\n",
    "#     res2.append(p2)"
   ]
  },
  {
   "cell_type": "code",
   "execution_count": 91,
   "metadata": {},
   "outputs": [
    {
     "data": {
      "image/png": "[encoded data removed]",
      "text/plain": [
       "<Figure size 432x288 with 1 Axes>"
      ]
     },
     "metadata": {},
     "output_type": "display_data"
    }
   ],
   "source": [
    "plt.plot(res)\n",
    "# plt.plot(res2)\n",
    "plt.show()"
   ]
  },
  {
   "cell_type": "markdown",
   "metadata": {},
   "source": [
    "Trials to get to 0"
   ]
  },
  {
   "cell_type": "code",
   "execution_count": 134,
   "metadata": {
    "collapsed": true
   },
   "outputs": [],
   "source": [
    "def n_trials(N):\n",
    "    R_i = N\n",
    "    for i in count(1):\n",
    "        R_i = np.random.binomial(R_i, 0.5)\n",
    "        if R_i == 0:\n",
    "            return i\n",
    "\n",
    "def avg_trials(N, C):\n",
    "    return np.array([n_trials(N) for _ in range(C)]).mean()"
   ]
  },
  {
   "cell_type": "code",
   "execution_count": 158,
   "metadata": {
    "collapsed": true
   },
   "outputs": [],
   "source": [
    "N = 1000\n",
    "C = 10000\n",
    "\n",
    "log_Ns = list(range(0, 5))\n",
    "Ts = []\n",
    "\n",
    "for n in log_Ns:\n",
    "    Ts.append(avg_trials(2**n, C))"
   ]
  },
  {
   "cell_type": "code",
   "execution_count": 159,
   "metadata": {},
   "outputs": [
    {
     "data": {
      "text/plain": [
       "(2, 3.52)"
      ]
     },
     "execution_count": 159,
     "metadata": {},
     "output_type": "execute_result"
    }
   ],
   "source": [
    "i = 2\n",
    "log_Ns[i], Ts[i]"
   ]
  },
  {
   "cell_type": "markdown",
   "metadata": {},
   "source": [
    "It seems to take on average log2(N) + 1.33 trials to hear nothing in the amphitheatre.\n",
    "\n",
    "Maybe this depends on independence. Definitely does.\n",
    "\n",
    "So shouldn't we estimate log2(N) = t - 1.33?\n",
    "\n",
    "Well, we will be off by only a factor of 2^1.33 $\\approx$ 2.5. And maybe the other direction is bad if we have dependence."
   ]
  },
  {
   "cell_type": "code",
   "execution_count": 160,
   "metadata": {
    "scrolled": true
   },
   "outputs": [
    {
     "data": {
      "image/png": "[encoded data removed]",
      "text/plain": [
       "<Figure size 432x288 with 1 Axes>"
      ]
     },
     "metadata": {},
     "output_type": "display_data"
    }
   ],
   "source": [
    "plt.plot(log_Ns[:], np.array(Ts[:]))\n",
    "# plt.plot(np.array(Ts[1:]) - np.array(log_Ns[1:]))\n",
    "plt.show()"
   ]
  }
 ],
 "metadata": {
  "kernelspec": {
   "display_name": "Python 3",
   "language": "python",
   "name": "python3"
  },
  "language_info": {
   "codemirror_mode": {
    "name": "ipython",
    "version": 3
   },
   "file_extension": ".py",
   "mimetype": "text/x-python",
   "name": "python",
   "nbconvert_exporter": "python",
   "pygments_lexer": "ipython3",
   "version": "3.6.2"
  }
 },
 "nbformat": 4,
 "nbformat_minor": 2
}
