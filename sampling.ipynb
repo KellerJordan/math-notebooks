{
 "cells": [
  {
   "cell_type": "code",
   "execution_count": 57,
   "metadata": {
    "collapsed": true
   },
   "outputs": [],
   "source": [
    "import numpy as np\n",
    "import matplotlib.pyplot as plt\n",
    "import math"
   ]
  },
  {
   "cell_type": "code",
   "execution_count": 141,
   "metadata": {
    "collapsed": true
   },
   "outputs": [],
   "source": [
    "def transform(x):\n",
    "    result = (1-x)**(-1/2)\n",
    "#     result = (1-x)**(-1/3)\n",
    "    return result\n",
    "\n",
    "def density(y):\n",
    "    result = 2*y**(-3)\n",
    "#     result = 3*y**(-4)\n",
    "    return result\n",
    "\n",
    "mu = 2\n",
    "# mu = 3/2"
   ]
  },
  {
   "cell_type": "code",
   "execution_count": 142,
   "metadata": {
    "scrolled": true
   },
   "outputs": [
    {
     "data": {
      "image/png": "[encoded data removed]",
      "text/plain": [
       "<Figure size 432x288 with 1 Axes>"
      ]
     },
     "metadata": {},
     "output_type": "display_data"
    }
   ],
   "source": [
    "N = 10000\n",
    "bin_dens = 10\n",
    "cutoff = 8\n",
    "\n",
    "sample = transform(np.random.uniform(size=N))\n",
    "high = math.ceil(sample.max() - 1)\n",
    "cutoff = min(cutoff, high)\n",
    "sample = np.array([x for x in sample if x <= cutoff])\n",
    "\n",
    "n_bins = bin_dens * cutoff\n",
    "\n",
    "graphx = 1 + (cutoff-1) * (np.arange(250)/250)\n",
    "graphy = (N / bin_dens) * np.array([density(x) for x in graphx])\n",
    "\n",
    "plt.hist(sample, bins=n_bins)\n",
    "plt.plot(graphx, graphy)\n",
    "plt.show()"
   ]
  },
  {
   "cell_type": "code",
   "execution_count": 177,
   "metadata": {},
   "outputs": [
    {
     "name": "stdout",
     "output_type": "stream",
     "text": [
      "0.028172530433201892\n"
     ]
    }
   ],
   "source": [
    "N = 10000\n",
    "sample = transform(np.random.uniform(size=N))\n",
    "print(np.abs(sample.mean() - mu))"
   ]
  },
  {
   "cell_type": "code",
   "execution_count": null,
   "metadata": {
    "collapsed": true
   },
   "outputs": [],
   "source": []
  },
  {
   "cell_type": "code",
   "execution_count": null,
   "metadata": {
    "collapsed": true
   },
   "outputs": [],
   "source": []
  }
 ],
 "metadata": {
  "kernelspec": {
   "display_name": "Python 3",
   "language": "python",
   "name": "python3"
  },
  "language_info": {
   "codemirror_mode": {
    "name": "ipython",
    "version": 3
   },
   "file_extension": ".py",
   "mimetype": "text/x-python",
   "name": "python",
   "nbconvert_exporter": "python",
   "pygments_lexer": "ipython3",
   "version": "3.6.2"
  }
 },
 "nbformat": 4,
 "nbformat_minor": 2
}
