{
 "cells": [
  {
   "cell_type": "code",
   "execution_count": 1,
   "metadata": {
    "collapsed": true
   },
   "outputs": [],
   "source": [
    "import numpy as np\n",
    "from scipy.misc import comb, factorial as f"
   ]
  },
  {
   "cell_type": "code",
   "execution_count": 2,
   "metadata": {
    "collapsed": true
   },
   "outputs": [],
   "source": [
    "def run_experiment(urn, m, reps=1000):\n",
    "    avg = 0\n",
    "    for _ in range(reps):\n",
    "        balls = np.random.choice(urn, size=m, replace=False)\n",
    "        success = len(np.unique(balls)) == len(np.unique(urn))\n",
    "#         success = 0 in balls and 1 in balls\n",
    "        avg += success\n",
    "    return avg / reps"
   ]
  },
  {
   "cell_type": "code",
   "execution_count": 175,
   "metadata": {
    "collapsed": true
   },
   "outputs": [],
   "source": [
    "def numeric_eval(urn, m):\n",
    "    N, k = len(urn), len(np.unique(urn))\n",
    "    product = 1\n",
    "    for used_slots, Ni in list(zip(range(k), np.bincount(urn))):\n",
    "        remaining_balls = N - used_slots\n",
    "        valid_balls = remaining_balls - Ni\n",
    "        free_slots = m - used_slots\n",
    "        prob_none = comb(valid_balls, free_slots) / comb(remaining_balls, free_slots)\n",
    "        print(used_slots, remaining_balls, valid_balls, free_slots, prob_none)\n",
    "        product *= (1 - prob_none)\n",
    "    return product"
   ]
  },
  {
   "cell_type": "code",
   "execution_count": 20,
   "metadata": {
    "collapsed": true
   },
   "outputs": [],
   "source": [
    "def numeric_eval(urn, m):\n",
    "    N, k = len(urn), len(np.unique(urn))\n",
    "    n_seqs = np.prod(np.bincount(urn))\n",
    "#     n_seqs = comb(m, k)\n",
    "    n_other = comb(N - k, m - k)\n",
    "    n_any = comb(N, m)\n",
    "    return n_seqs * n_other / n_any"
   ]
  },
  {
   "cell_type": "code",
   "execution_count": 21,
   "metadata": {},
   "outputs": [
    {
     "name": "stdout",
     "output_type": "stream",
     "text": [
      "0.8762\n",
      "16.25386996904025\n"
     ]
    }
   ],
   "source": [
    "# urn, m = np.array([0]*5 + [1]*5 + [2]*5 + [3]*5), 5\n",
    "urn, m = np.array([0]*5+[1]*5+[2]*5+[3]*5), 9\n",
    "print(run_experiment(urn, m, reps=10000))\n",
    "print(numeric_eval(urn, m))"
   ]
  },
  {
   "cell_type": "code",
   "execution_count": null,
   "metadata": {
    "collapsed": true
   },
   "outputs": [],
   "source": []
  }
 ],
 "metadata": {
  "kernelspec": {
   "display_name": "Python 3",
   "language": "python",
   "name": "python3"
  },
  "language_info": {
   "codemirror_mode": {
    "name": "ipython",
    "version": 3
   },
   "file_extension": ".py",
   "mimetype": "text/x-python",
   "name": "python",
   "nbconvert_exporter": "python",
   "pygments_lexer": "ipython3",
   "version": "3.6.2"
  }
 },
 "nbformat": 4,
 "nbformat_minor": 2
}
