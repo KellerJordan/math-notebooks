{
 "cells": [
  {
   "cell_type": "code",
   "execution_count": 2,
   "metadata": {
    "collapsed": true
   },
   "outputs": [],
   "source": [
    "import numpy as np\n",
    "import matplotlib.pyplot as plt"
   ]
  },
  {
   "cell_type": "code",
   "execution_count": 3,
   "metadata": {
    "collapsed": true
   },
   "outputs": [],
   "source": [
    "import pprint\n",
    "\n",
    "import numpy as np\n",
    "\n",
    "\n",
    "pp = pprint.PrettyPrinter()\n",
    "\n",
    "def get_meshgrid(X, Y, R, n_x=1000, n_y=1000):\n",
    "    Rx = R\n",
    "    Ry = (n_y / n_x) * Rx\n",
    "    x_ubd, x_lbd = X + Rx, X - Rx\n",
    "    y_ubd, y_lbd = Y + Ry, Y - Ry\n",
    "    \n",
    "    x_rng = np.linspace(x_lbd, x_ubd, n_x, dtype=np.float64)\n",
    "    y_rng = np.linspace(y_lbd, y_ubd, n_y, dtype=np.float64)\n",
    "    \n",
    "    X, Y = np.meshgrid(x_rng, y_rng)\n",
    "    Z = X + 1j*Y\n",
    "    return Z\n",
    "\n",
    "def fractal_to_img(a):\n",
    "    # cyclically color the points by number of iterations to diverge\n",
    "    cycle_steps = 20 # number of steps before colors cycle\n",
    "    a_cyclic = 2 * np.pi * a / cycle_steps\n",
    "    rgb = [127 + 80 * np.cos(a_cyclic),\n",
    "           127 + 80 * np.sin(a_cyclic),\n",
    "           127 + 80 * np.cos(a_cyclic)]\n",
    "    img = np.stack(rgb, 2)\n",
    "\n",
    "    # color points which never diverged black\n",
    "    img[a == a.max()] = 0\n",
    "    img = np.uint8(img)\n",
    "    return img"
   ]
  },
  {
   "cell_type": "code",
   "execution_count": null,
   "metadata": {
    "collapsed": true
   },
   "outputs": [],
   "source": [
    "import os\n",
    "\n",
    "from scipy.misc import imsave\n",
    "import tensorflow as tf\n",
    "\n",
    "from utils import pp, get_meshgrid, fractal_to_img\n",
    "\n",
    "X = 0.0\n",
    "Y = 0.0\n",
    "R = 2.0\n",
    "output_width = 1000\n",
    "output_height = 1000\n",
    "\n",
    "def main(_):\n",
    "    pp.pprint(FLAGS.__flags)\n",
    "    \n",
    "    if not os.path.exists(FLAGS.img_dir):\n",
    "        os.mkdir(FLAGS.img_dir)\n",
    "    \n",
    "    # get meshgrid over which to iterate to produce fractal\n",
    "    Z = get_meshgrid(FLAGS.X, FLAGS.Y, FLAGS.R,\n",
    "                     n_x=FLAGS.output_width, n_y=FLAGS.output_height)\n",
    "    \n",
    "    # build computational graph\n",
    "    xs = tf.constant(Z, name='xs')\n",
    "    zs = tf.Variable(xs, name='zs')\n",
    "    ns = tf.Variable(tf.zeros_like(xs, tf.float32), name='ns')\n",
    "    \n",
    "    zs_ = zs * zs + xs\n",
    "    not_diverged = tf.abs(zs_) < 4\n",
    "    update_zs = zs.assign(zs_)\n",
    "    update_ns = ns.assign_add(tf.cast(not_diverged, tf.float32)) # add one for each iteration that the point did not diverge\n",
    "    update_step = tf.group(update_zs, update_ns)\n",
    "    \n",
    "    init_op = tf.global_variables_initializer()\n",
    "    \n",
    "    # run num_iters iterations to generate non-divergence counts for each pixel location\n",
    "    with tf.Session() as sess:\n",
    "        init_op.run()\n",
    "        for i in range(FLAGS.num_iters):\n",
    "            update_step.run()\n",
    "        ns_np = ns.eval()\n",
    "    \n",
    "    img = fractal_to_img(ns_np)\n",
    "    img_name = 'mandelbrot_%f-%f-%f' % (FLAGS.X, FLAGS.Y, FLAGS.R)\n",
    "    imsave('%s/%s.png' % (FLAGS.img_dir, img_name), img)\n",
    "\n",
    "if __name__ == '__main__':\n",
    "    tf.app.run()"
   ]
  },
  {
   "cell_type": "markdown",
   "metadata": {},
   "source": [
    "Do the following:\n",
    "\n",
    "`git config --global user.name`"
   ]
  }
 ],
 "metadata": {
  "kernelspec": {
   "display_name": "Python 3",
   "language": "python",
   "name": "python3"
  },
  "language_info": {
   "codemirror_mode": {
    "name": "ipython",
    "version": 3
   },
   "file_extension": ".py",
   "mimetype": "text/x-python",
   "name": "python",
   "nbconvert_exporter": "python",
   "pygments_lexer": "ipython3",
   "version": "3.6.2"
  }
 },
 "nbformat": 4,
 "nbformat_minor": 2
}
