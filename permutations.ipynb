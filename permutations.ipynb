{
 "cells": [
  {
   "cell_type": "code",
   "execution_count": 9,
   "metadata": {},
   "outputs": [],
   "source": [
    "from itertools import count"
   ]
  },
  {
   "cell_type": "code",
   "execution_count": 18,
   "metadata": {
    "collapsed": true
   },
   "outputs": [],
   "source": [
    "def shuffle(seq):\n",
    "    n = len(seq)//2\n",
    "    result = [None]*(2*n)\n",
    "    for i in range(n):\n",
    "        result[2*i] = seq[i]\n",
    "        result[2*i+1] = seq[n+i]\n",
    "    return result\n",
    "\n",
    "def test_order(n):\n",
    "    seq = list(range(2*n))\n",
    "    next_seq = seq.copy()\n",
    "    for i in count(1):\n",
    "        next_seq = shuffle(next_seq)\n",
    "        if next_seq == seq:\n",
    "            return i"
   ]
  },
  {
   "cell_type": "code",
   "execution_count": 41,
   "metadata": {
    "collapsed": true
   },
   "outputs": [],
   "source": [
    "def cycle_notation(seq):\n",
    "    result = []\n",
    "    nums = set(range(len(seq)))\n",
    "    while nums:\n",
    "        start = nums.pop()\n",
    "        cycle = [start]\n",
    "        while True:\n",
    "            nxt = seq.index(cycle[-1])\n",
    "            if nxt == start:\n",
    "                break\n",
    "            cycle.append(nxt)\n",
    "            nums.remove(nxt)\n",
    "        if len(cycle) > 1:\n",
    "            result.append([d+1 for d in cycle])\n",
    "    return result"
   ]
  },
  {
   "cell_type": "code",
   "execution_count": 64,
   "metadata": {},
   "outputs": [
    {
     "data": {
      "text/plain": [
       "[[2, 3, 5, 9, 17, 33, 14, 27],\n",
       " [4, 7, 13, 25, 49, 46, 40, 28],\n",
       " [6, 11, 21, 41, 30, 8, 15, 29],\n",
       " [10, 19, 37, 22, 43, 34, 16, 31],\n",
       " [12, 23, 45, 38, 24, 47, 42, 32],\n",
       " [18, 35],\n",
       " [20, 39, 26, 51, 50, 48, 44, 36]]"
      ]
     },
     "execution_count": 64,
     "metadata": {},
     "output_type": "execute_result"
    }
   ],
   "source": [
    "cycle_notation(shuffle(list(range(2*26))))"
   ]
  },
  {
   "cell_type": "code",
   "execution_count": 65,
   "metadata": {
    "scrolled": false
   },
   "outputs": [
    {
     "name": "stdout",
     "output_type": "stream",
     "text": [
      "1 1\n",
      "2 2\n",
      "3 4\n",
      "4 3\n",
      "5 6\n",
      "6 10\n",
      "7 12\n",
      "8 4\n",
      "9 8\n",
      "10 18\n",
      "11 6\n",
      "12 11\n",
      "13 20\n",
      "14 18\n",
      "15 28\n",
      "16 5\n",
      "17 10\n",
      "18 12\n",
      "19 36\n",
      "20 12\n",
      "21 20\n",
      "22 14\n",
      "23 12\n",
      "24 23\n",
      "25 21\n",
      "26 8\n"
     ]
    }
   ],
   "source": [
    "for i in range(1, 27):\n",
    "    print(i, test_order(i))"
   ]
  },
  {
   "cell_type": "code",
   "execution_count": 68,
   "metadata": {},
   "outputs": [],
   "source": [
    "from tqdm import tqdm"
   ]
  },
  {
   "cell_type": "code",
   "execution_count": 69,
   "metadata": {},
   "outputs": [
    {
     "name": "stderr",
     "output_type": "stream",
     "text": [
      "100%|██████████| 1000/1000 [00:35<00:00,  7.21it/s] \n"
     ]
    }
   ],
   "source": [
    "orders = [test_order(i) for i in tqdm(range(1000))]"
   ]
  },
  {
   "cell_type": "code",
   "execution_count": 72,
   "metadata": {
    "collapsed": true
   },
   "outputs": [],
   "source": [
    "import matplotlib.pyplot as plt"
   ]
  },
  {
   "cell_type": "code",
   "execution_count": 77,
   "metadata": {},
   "outputs": [
    {
     "data": {
      "image/png": "[encoded data removed]",
      "text/plain": [
       "<matplotlib.figure.Figure at 0x7f4650130c18>"
      ]
     },
     "metadata": {},
     "output_type": "display_data"
    }
   ],
   "source": [
    "plt.plot(orders[:100])\n",
    "plt.show()"
   ]
  }
 ],
 "metadata": {
  "kernelspec": {
   "display_name": "Python 3",
   "language": "python",
   "name": "python3"
  },
  "language_info": {
   "codemirror_mode": {
    "name": "ipython",
    "version": 3
   },
   "file_extension": ".py",
   "mimetype": "text/x-python",
   "name": "python",
   "nbconvert_exporter": "python",
   "pygments_lexer": "ipython3",
   "version": "3.6.2"
  }
 },
 "nbformat": 4,
 "nbformat_minor": 2
}
