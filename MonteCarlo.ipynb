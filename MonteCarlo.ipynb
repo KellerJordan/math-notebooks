{
 "cells": [
  {
   "cell_type": "code",
   "execution_count": 35,
   "metadata": {},
   "outputs": [],
   "source": [
    "import numpy as np\n",
    "import matplotlib.pyplot as plt\n",
    "from PIL import Image"
   ]
  },
  {
   "cell_type": "code",
   "execution_count": 186,
   "metadata": {
    "collapsed": true
   },
   "outputs": [],
   "source": [
    "width = 1000\n",
    "N = 1000000"
   ]
  },
  {
   "cell_type": "code",
   "execution_count": 209,
   "metadata": {},
   "outputs": [],
   "source": [
    "pos = np.array([0, 0])\n",
    "gap = 1000\n",
    "exp = []\n",
    "for i in range(N//gap):\n",
    "    exp.append(np.sqrt(gap * i/2))\n",
    "final_exp = exp[-1]\n",
    "\n",
    "final_devs = []\n",
    "for _ in range(100):\n",
    "    dev = []\n",
    "    pos = np.array([0, 0])\n",
    "    for i in range(N//gap):\n",
    "        steps = np.random.uniform(-1, 1, size=(gap, 2))\n",
    "        step = steps.sum(0)\n",
    "        pos = pos + step\n",
    "        dev.append(np.linalg.norm(pos))\n",
    "    final_devs.append(dev[-1])"
   ]
  },
  {
   "cell_type": "code",
   "execution_count": 210,
   "metadata": {},
   "outputs": [
    {
     "name": "stdout",
     "output_type": "stream",
     "text": [
      "754.9886013221585 706.7531393633848\n"
     ]
    }
   ],
   "source": [
    "print(np.array(final_devs).mean(), final_exp)"
   ]
  },
  {
   "cell_type": "code",
   "execution_count": 211,
   "metadata": {},
   "outputs": [
    {
     "data": {
      "image/png": "[encoded data removed]",
      "text/plain": [
       "<Figure size 432x288 with 1 Axes>"
      ]
     },
     "metadata": {},
     "output_type": "display_data"
    }
   ],
   "source": [
    "plt.plot(dev)\n",
    "plt.plot(exp)\n",
    "plt.show()"
   ]
  },
  {
   "cell_type": "code",
   "execution_count": 212,
   "metadata": {},
   "outputs": [],
   "source": [
    "grid = np.zeros((width, width))\n",
    "center = np.array((width//2, width//2))\n",
    "pos = center\n",
    "for i in range(N):\n",
    "    step = np.random.uniform(-1, 1, size=2)\n",
    "    pos = pos + step\n",
    "    trunc_pos = np.floor(pos).astype(int)\n",
    "    grid[trunc_pos[0] % width, trunc_pos[1] % width] = 1"
   ]
  },
  {
   "cell_type": "code",
   "execution_count": 215,
   "metadata": {},
   "outputs": [],
   "source": [
    "im = Image.fromarray(255 * grid)\n",
    "im.show()\n",
    "im.convert('RGB').save('motion.png')"
   ]
  },
  {
   "cell_type": "code",
   "execution_count": null,
   "metadata": {
    "collapsed": true
   },
   "outputs": [],
   "source": []
  }
 ],
 "metadata": {
  "kernelspec": {
   "display_name": "Python 3",
   "language": "python",
   "name": "python3"
  },
  "language_info": {
   "codemirror_mode": {
    "name": "ipython",
    "version": 3
   },
   "file_extension": ".py",
   "mimetype": "text/x-python",
   "name": "python",
   "nbconvert_exporter": "python",
   "pygments_lexer": "ipython3",
   "version": "3.6.2"
  }
 },
 "nbformat": 4,
 "nbformat_minor": 2
}
