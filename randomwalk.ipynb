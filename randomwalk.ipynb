{
 "cells": [
  {
   "cell_type": "code",
   "execution_count": 44,
   "metadata": {
    "collapsed": true
   },
   "outputs": [],
   "source": [
    "import numpy as np\n",
    "import matplotlib.pyplot as plt"
   ]
  },
  {
   "cell_type": "code",
   "execution_count": 75,
   "metadata": {
    "collapsed": true
   },
   "outputs": [],
   "source": [
    "N = 100000\n",
    "p = 0.5\n",
    "# gen_sample = lambda: 2*(np.random.binomial(n, p, N) - p*n)\n",
    "gen_sample = lambda n: np.random.exponential(scale=n, size=N) - 1/n\n",
    "def rmse_mae(n):\n",
    "    sample = gen_sample(n)\n",
    "    rmse = np.sqrt((sample**2).mean())\n",
    "    mae = np.abs(sample).mean()\n",
    "    return rmse, mae"
   ]
  },
  {
   "cell_type": "code",
   "execution_count": 78,
   "metadata": {},
   "outputs": [],
   "source": [
    "domain = list(range(1, 100, 1))\n",
    "comp = [rmse_mae(n) for n in domain]\n",
    "rmse, mae = (np.array(arr) for arr in zip(*comp))"
   ]
  },
  {
   "cell_type": "code",
   "execution_count": 79,
   "metadata": {},
   "outputs": [
    {
     "name": "stdout",
     "output_type": "stream",
     "text": [
      "1.4176642788743532\n"
     ]
    },
    {
     "data": {
      "image/png": "[encoded data removed]",
      "text/plain": [
       "<Figure size 432x288 with 1 Axes>"
      ]
     },
     "metadata": {},
     "output_type": "display_data"
    }
   ],
   "source": [
    "plt.plot(domain, rmse)\n",
    "# plt.plot(domain, mae)\n",
    "ratio = (rmse / mae).mean()\n",
    "print(ratio)\n",
    "plt.plot(domain, ratio * mae)\n",
    "plt.show()"
   ]
  },
  {
   "cell_type": "markdown",
   "metadata": {},
   "source": [
    "Result: the ratio between root-mean-squared and mean-absolution value is 5/4. Why?"
   ]
  }
 ],
 "metadata": {
  "kernelspec": {
   "display_name": "Python 3",
   "language": "python",
   "name": "python3"
  },
  "language_info": {
   "codemirror_mode": {
    "name": "ipython",
    "version": 3
   },
   "file_extension": ".py",
   "mimetype": "text/x-python",
   "name": "python",
   "nbconvert_exporter": "python",
   "pygments_lexer": "ipython3",
   "version": "3.6.2"
  }
 },
 "nbformat": 4,
 "nbformat_minor": 2
}
